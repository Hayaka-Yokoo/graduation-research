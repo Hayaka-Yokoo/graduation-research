{
 "cells": [
  {
   "cell_type": "code",
   "execution_count": 1,
   "id": "e128d132",
   "metadata": {},
   "outputs": [],
   "source": [
    "import os\n",
    "os.environ[\"CUDA_DEVICE_ORDER\"]=\"PCI_BUS_ID\"   # see issue #152\n",
    "os.environ[\"CUDA_VISIBLE_DEVICES\"]=\"3\"  # last GPU"
   ]
  },
  {
   "cell_type": "code",
   "execution_count": 2,
   "id": "41f869f5",
   "metadata": {},
   "outputs": [],
   "source": [
    "from datetime import datetime\n",
    "import numpy as np\n",
    "import torch\n",
    "from IPython.display import display\n",
    "import nvdiffrast.torch as dr\n",
    "from PIL import Image"
   ]
  },
  {
   "cell_type": "code",
   "execution_count": 3,
   "id": "780a6376",
   "metadata": {},
   "outputs": [],
   "source": [
    "image_fn = 'assets/monalisa.png'\n",
    "h, w = 256, 256\n",
    "n_triangles = 1000\n",
    "base_lr = 0.03\n",
    "report_iterations = 10\n",
    "n_iterations = 10000"
   ]
  },
  {
   "cell_type": "code",
   "execution_count": 4,
   "id": "c2e6bb2d",
   "metadata": {},
   "outputs": [],
   "source": [
    "# 写真表示\n",
    "def to_pil_img(img):\n",
    "    return Image.fromarray((img[0].clip(0,1).detach().cpu().numpy()*255).astype('uint8'))\n",
    "\n",
    "def show(img):\n",
    "    display(to_pil_img(img))\n",
    "    \n",
    "def save_as_gif(fn, imgs, fps=12):\n",
    "    img, *imgs = imgs\n",
    "    with open(fn, 'wb') as fp_out:\n",
    "        img.save(fp=fp_out, format='GIF', append_images=imgs,\n",
    "             save_all=True, duration=int(1000./fps), loop=0)\n",
    "\n",
    "# log保存\n",
    "def save_as_frames(fn, imgs, overwrite=True):\n",
    "    # save to folder `fn` with sequenced filenames\n",
    "    os.makedirs(fn, exist_ok=True)\n",
    "    for i, img in enumerate(imgs):\n",
    "        this_fn = os.path.join(fn, f'{i:08}.png')\n",
    "        if overwrite or not os.path.exists(this_fn):\n",
    "            save_as_png(this_fn, img)\n",
    "\n",
    "def save_as_png(fn, img):\n",
    "    if not fn.endswith('.png'):\n",
    "        fn = f'{fn}.png'\n",
    "    img.save(fn)\n",
    "            \n",
    "def save_info_list(fn, info_list):\n",
    "    with open(fn, 'w') as fout:\n",
    "        list(map(lambda r: print(r, file=fout), info_list))"
   ]
  },
  {
   "cell_type": "code",
   "execution_count": 5,
   "id": "85b06480",
   "metadata": {},
   "outputs": [],
   "source": [
    "faces = torch.arange(n_triangles * 3).reshape(-1, 3).int().cuda()\n",
    "def combine_layers(out, bg_noise=0.05):\n",
    "    canvas = torch.ones_like(out[0:1,:,:,0:3])\n",
    "    canvas = canvas + torch.randn_like(out[0:1,:,:,0:3]) * bg_noise\n",
    "    \n",
    "    canvas_box  = torch.ones_like(out[0:1,:,:,0:3])\n",
    "    for i in range(0, n_triangles):\n",
    "        alpha = out[i:i+1, ..., 3:4]\n",
    "        #if i > 150:\n",
    "        alpha = alpha # * 0.1\n",
    "        # print(torch.max(alpha))\n",
    "        draw_color = out[i:i+1, ..., 0:3]\n",
    "        canvas = canvas * (1 - alpha) + alpha * draw_color\n",
    "        # canvasを足し合わせていく\n",
    "        canvas_box += canvas\n",
    "        \n",
    "    # canvas_boxを三角形の個数で割る\n",
    "    canvas = canvas_box/n_triangles\n",
    "    \n",
    "    return canvas"
   ]
  },
  {
   "cell_type": "code",
   "execution_count": 6,
   "id": "9b6fdabe",
   "metadata": {},
   "outputs": [],
   "source": [
    "def render(v, c, combine_layers_kwargs={}):\n",
    "    verts_norm = v \n",
    "    color_norm = c \n",
    "    m_ones = -torch.ones(n_triangles, 3, 1).cuda().float()\n",
    "    ones = torch.ones(n_triangles, 3, 1).cuda().float()\n",
    "    verts_in = torch.cat([verts_norm, m_ones, ones], dim =2) # [..., None, :]\n",
    "    colors = color_norm[:, None, :].repeat(1, 3, 1)\n",
    "    rast, _ = dr.rasterize(glctx, verts_in, faces, resolution=[h, w], grad_db=True)\n",
    "    out_inter, _ = dr.interpolate(colors, rast, faces)\n",
    "    out_layers = dr.antialias(out_inter, rast, verts_in, faces, pos_gradient_boost=1)\n",
    "    out = combine_layers(out_layers, **combine_layers_kwargs)\n",
    "    return out"
   ]
  },
  {
   "cell_type": "code",
   "execution_count": 7,
   "id": "05d43432",
   "metadata": {},
   "outputs": [],
   "source": [
    "class OptimRateScheduler(object):\n",
    "    def __init__(self, total_iterations):\n",
    "        self.total_iterations = total_iterations\n",
    "        self.ramp_up_to = 1 / 20\n",
    "        self.ramp_down_from = 3 / 4\n",
    "    def get_lr_scale(self, c_iter):\n",
    "        t = c_iter / self.total_iterations\n",
    "        lr_ramp = min(1.0, (1.0 - t) / 0.25)\n",
    "        lr_ramp = 0.5 - 0.5 * np.cos(lr_ramp * np.pi)\n",
    "        lr_ramp = lr_ramp * min(1.0, t / 0.05)\n",
    "        return lr_ramp * 8\n",
    "    def get_noise_scale(self, c_iter):\n",
    "        t = c_iter / self.total_iterations\n",
    "        if t > self.ramp_down_from:\n",
    "            return 0\n",
    "        else:\n",
    "            return ((self.ramp_down_from - t) / self.ramp_down_from)**2"
   ]
  },
  {
   "cell_type": "code",
   "execution_count": 8,
   "id": "f36476c3",
   "metadata": {},
   "outputs": [],
   "source": [
    "# ターゲット画像\n",
    "target = Image.open(image_fn).resize((h, w)).convert('RGB')\n",
    "target = np.asarray(target)\n",
    "target = torch.from_numpy(target.astype('f') / 255).cuda()[None, ...]\n",
    "\n",
    "# nvdiffrast用オブジェクト\n",
    "glctx = dr.RasterizeGLContext()\n",
    "\n",
    "# 頂点, 色の初期値\n",
    "verts = (torch.rand(n_triangles, 3, 2) * 2 - 1).cuda()\n",
    "verts.requires_grad = True\n",
    "color = torch.rand(n_triangles, 4).float().cuda()\n",
    "color.requires_grad = True\n",
    "\n",
    "# オプティマイザー\n",
    "optim = torch.optim.Adam([verts, color], lr = base_lr)\n",
    "ors = OptimRateScheduler(total_iterations=n_iterations)"
   ]
  },
  {
   "cell_type": "code",
   "execution_count": 10,
   "id": "36a5666b",
   "metadata": {},
   "outputs": [
    {
     "name": "stdout",
     "output_type": "stream",
     "text": [
      "tensor(0.9957, device='cuda:0')\n"
     ]
    }
   ],
   "source": [
    "cos = torch.nn.CosineSimilarity(dim=1, eps=1e-6)\n",
    "output = cos(target, out)\n",
    "print(output.mean())"
   ]
  },
  {
   "cell_type": "code",
   "execution_count": null,
   "id": "db702ddd",
   "metadata": {},
   "outputs": [],
   "source": [
    "save_dir = 'mfld_triangle_out_eighth_1000t_10000epochs'\n",
    "os.makedirs(save_dir, exist_ok=True)\n",
    "pil_img_list = []\n",
    "info_list = []\n",
    "\n",
    "for i in range(n_iterations):\n",
    "    lr = ors.get_lr_scale(i) * base_lr\n",
    "    lda = 1e-10\n",
    "    optim.param_groups[0]['lr'] = lr\n",
    "    \n",
    "    noise_scale = (0.05 * ors.get_noise_scale(i))\n",
    "    verts_noise = torch.randn_like(verts) * noise_scale\n",
    "    color_noise = torch.randn_like(color) * noise_scale * 0.5\n",
    "    verts_in = verts #+ verts_noise\n",
    "    color_in = color #+ color_noise\n",
    "    \n",
    "    out = render(verts, color_in, {'bg_noise': 0.05})\n",
    "    loss = ((out-target)**2).mean()\n",
    "    loss_view = ((out-target)**2).mean()\n",
    "    \n",
    "    optim.zero_grad()\n",
    "    loss.backward()\n",
    "    \n",
    "    if (i + 1) % report_iterations == 0:\n",
    "        \n",
    "        with torch.no_grad():\n",
    "            verts_in = verts\n",
    "            color_in = color\n",
    "            out = render(verts, color_in, {'bg_noise': 0.0})\n",
    "            wonoise_loss = ((out-target)**2).mean()\n",
    "\n",
    "        info = f\"[{datetime.now()}]   Iteration {i + 1}, lr {optim.param_groups[0]['lr']}, loss {loss.item()} loss (without noise) {wonoise_loss.item()}, loss_view {loss_view}\"\n",
    "        print(info)\n",
    "        info_list.append(info)\n",
    "        save_info_list(f'{save_dir}/log.txt', info_list)\n",
    "            \n",
    "        show(out)\n",
    "        pil_img_list.append(to_pil_img(out))\n",
    "        save_as_gif(f'{save_dir}/animate.gif', pil_img_list, fps=12)\n",
    "        save_as_frames(f'{save_dir}/animate.frames', pil_img_list)\n",
    "        \n",
    "    # optim.step()\n",
    "    # MFLD\n",
    "    v_noise = torch.normal(mean=torch.zeros_like(verts.data), std=torch.ones_like(verts.data)) * noise_scale\n",
    "    verts.data -= lr  * n_triangles * verts.grad +np.sqrt(2*lr*lda) * v_noise\n",
    "    c_noise = torch.normal(mean=torch.zeros_like(color), std=torch.ones_like(color)) * noise_scale\n",
    "    color.data -= lr  * n_triangles * color.grad +np.sqrt(2*lr*lda) * c_noise\n"
   ]
  },
  {
   "cell_type": "code",
   "execution_count": null,
   "id": "df11d939",
   "metadata": {},
   "outputs": [],
   "source": []
  }
 ],
 "metadata": {
  "kernelspec": {
   "display_name": "Python 3 (ipykernel)",
   "language": "python",
   "name": "python3"
  },
  "language_info": {
   "codemirror_mode": {
    "name": "ipython",
    "version": 3
   },
   "file_extension": ".py",
   "mimetype": "text/x-python",
   "name": "python",
   "nbconvert_exporter": "python",
   "pygments_lexer": "ipython3",
   "version": "3.7.11"
  }
 },
 "nbformat": 4,
 "nbformat_minor": 5
}
